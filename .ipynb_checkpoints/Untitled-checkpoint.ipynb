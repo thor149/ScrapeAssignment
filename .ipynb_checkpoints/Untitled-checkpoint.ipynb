{
 "cells": [
  {
   "cell_type": "code",
   "execution_count": 57,
   "id": "d6034d02",
   "metadata": {},
   "outputs": [],
   "source": [
    "from selenium import webdriver\n",
    "from selenium.webdriver.common.by import By\n",
    "from selenium.webdriver.support import expected_conditions as EC\n",
    "from selenium.webdriver.support.ui import WebDriverWait\n",
    "from selenium.common.exceptions import ElementClickInterceptedException\n",
    "import time"
   ]
  },
  {
   "cell_type": "code",
   "execution_count": 58,
   "id": "06907193",
   "metadata": {},
   "outputs": [],
   "source": [
    "driver = webdriver.Edge()\n",
    "driver.get('https://qcpi.questcdn.com/cdn/posting/?group=1950787&provider=1950787')"
   ]
  },
  {
   "cell_type": "code",
   "execution_count": 60,
   "id": "f093e260",
   "metadata": {},
   "outputs": [],
   "source": [
    "try:\n",
    "    open_detail = driver.find_elements(By.XPATH,'//a[@href=\"#\"]')[14]\n",
    "    open_detail.click()\n",
    "except ElementClickInterceptedException as e:\n",
    "    print(f\"Element click intercepted: {e}\")"
   ]
  },
  {
   "cell_type": "code",
   "execution_count": 61,
   "id": "cd4f7152",
   "metadata": {},
   "outputs": [],
   "source": [
    "next_btn = driver.find_elements(By.XPATH,'//button[@id=\"id_prevnext_next\"]')"
   ]
  },
  {
   "cell_type": "code",
   "execution_count": 35,
   "id": "adf248c2",
   "metadata": {},
   "outputs": [],
   "source": [
    "tables = driver.find_elements(By.XPATH,'//table[starts-with(@class,\"table\")]')"
   ]
  },
  {
   "cell_type": "code",
   "execution_count": 36,
   "id": "35785e78",
   "metadata": {},
   "outputs": [
    {
     "data": {
      "text/plain": [
       "8"
      ]
     },
     "execution_count": 36,
     "metadata": {},
     "output_type": "execute_result"
    }
   ],
   "source": [
    "len(tables)"
   ]
  },
  {
   "cell_type": "code",
   "execution_count": 62,
   "id": "7dc17cb7",
   "metadata": {},
   "outputs": [
    {
     "name": "stdout",
     "output_type": "stream",
     "text": [
      "Tue, 11/21/2023 02:00 PM MST $2,500,000 to $5,000,000 performing a base rehabilitation, regrading, paving and sealcoat of SH-77 from MP 1.07 to 4.1\n",
      "Tue, 11/21/2023 02:00 PM MST $15,000,000 to $25,000,000 adding a 3rd LN on WB SH-55, Sundance Rd to Karcher IC. Widen bridge over I-84, modify bridge over Indian Cr, modify I-84 WB offramp R turn onto WB SH-55. Perform 2\" mill/inlay of SH-55 & the IC from MP 15.60 to 16.76 & chip seal of same mill/inlay limits\n"
     ]
    },
    {
     "ename": "StaleElementReferenceException",
     "evalue": "Message: stale element reference: stale element not found\n  (Session info: MicrosoftEdge=119.0.2151.72)\nStacktrace:\n\tGetHandleVerifier [0x00007FF7995F2602+60402]\n\tMicrosoft::Applications::Events::ILogConfiguration::operator* [0x00007FF799577352+253666]\n\t(No symbol) [0x00007FF799349C99]\n\t(No symbol) [0x00007FF79934EC78]\n\t(No symbol) [0x00007FF7993511EF]\n\t(No symbol) [0x00007FF7993512E0]\n\t(No symbol) [0x00007FF79939C156]\n\t(No symbol) [0x00007FF79938DC56]\n\t(No symbol) [0x00007FF7993BBA8A]\n\t(No symbol) [0x00007FF79938D766]\n\t(No symbol) [0x00007FF79938D60D]\n\t(No symbol) [0x00007FF7993BBDB0]\n\t(No symbol) [0x00007FF79938D766]\n\t(No symbol) [0x00007FF7993D5111]\n\t(No symbol) [0x00007FF7993BB863]\n\t(No symbol) [0x00007FF79938C585]\n\t(No symbol) [0x00007FF79938B993]\n\t(No symbol) [0x00007FF79938CD14]\n\tMicrosoft::Applications::Events::EventProperty::to_string [0x00007FF7997D34A4+1161924]\n\t(No symbol) [0x00007FF79940E5F6]\n\tMicrosoft::Applications::Events::EventProperty::~EventProperty [0x00007FF7994CB083+37459]\n\tMicrosoft::Applications::Events::EventProperty::~EventProperty [0x00007FF7994C2C4D+3613]\n\tMicrosoft::Applications::Events::EventProperty::to_string [0x00007FF7997D21E4+1157124]\n\tMicrosoft::Applications::Events::ILogConfiguration::operator* [0x00007FF7995816A8+295480]\n\tMicrosoft::Applications::Events::ILogConfiguration::operator* [0x00007FF79957CB74+276228]\n\tMicrosoft::Applications::Events::ILogConfiguration::operator* [0x00007FF79957CCA2+276530]\n\tMicrosoft::Applications::Events::ILogConfiguration::operator* [0x00007FF79956FA91+222753]\n\tBaseThreadInitThunk [0x00007FFEDF427344+20]\n\tRtlUserThreadStart [0x00007FFEE05226B1+33]\n",
     "output_type": "error",
     "traceback": [
      "\u001b[1;31m---------------------------------------------------------------------------\u001b[0m",
      "\u001b[1;31mStaleElementReferenceException\u001b[0m            Traceback (most recent call last)",
      "Cell \u001b[1;32mIn[62], line 9\u001b[0m\n\u001b[0;32m      7\u001b[0m description \u001b[38;5;241m=\u001b[39m project_description_table\u001b[38;5;241m.\u001b[39mfind_elements(By\u001b[38;5;241m.\u001b[39mTAG_NAME,\u001b[38;5;124m'\u001b[39m\u001b[38;5;124mtd\u001b[39m\u001b[38;5;124m'\u001b[39m)[\u001b[38;5;241m7\u001b[39m]\u001b[38;5;241m.\u001b[39mtext\n\u001b[0;32m      8\u001b[0m \u001b[38;5;28mprint\u001b[39m(closing_date,est_value_notes,description)\n\u001b[1;32m----> 9\u001b[0m next_btn\u001b[38;5;241m.\u001b[39mclick()\n\u001b[0;32m     10\u001b[0m time\u001b[38;5;241m.\u001b[39msleep(\u001b[38;5;241m2\u001b[39m)\n",
      "File \u001b[1;32m~\\anaconda3\\Lib\\site-packages\\selenium\\webdriver\\remote\\webelement.py:94\u001b[0m, in \u001b[0;36mWebElement.click\u001b[1;34m(self)\u001b[0m\n\u001b[0;32m     92\u001b[0m \u001b[38;5;28;01mdef\u001b[39;00m \u001b[38;5;21mclick\u001b[39m(\u001b[38;5;28mself\u001b[39m) \u001b[38;5;241m-\u001b[39m\u001b[38;5;241m>\u001b[39m \u001b[38;5;28;01mNone\u001b[39;00m:\n\u001b[0;32m     93\u001b[0m \u001b[38;5;250m    \u001b[39m\u001b[38;5;124;03m\"\"\"Clicks the element.\"\"\"\u001b[39;00m\n\u001b[1;32m---> 94\u001b[0m     \u001b[38;5;28mself\u001b[39m\u001b[38;5;241m.\u001b[39m_execute(Command\u001b[38;5;241m.\u001b[39mCLICK_ELEMENT)\n",
      "File \u001b[1;32m~\\anaconda3\\Lib\\site-packages\\selenium\\webdriver\\remote\\webelement.py:403\u001b[0m, in \u001b[0;36mWebElement._execute\u001b[1;34m(self, command, params)\u001b[0m\n\u001b[0;32m    401\u001b[0m     params \u001b[38;5;241m=\u001b[39m {}\n\u001b[0;32m    402\u001b[0m params[\u001b[38;5;124m\"\u001b[39m\u001b[38;5;124mid\u001b[39m\u001b[38;5;124m\"\u001b[39m] \u001b[38;5;241m=\u001b[39m \u001b[38;5;28mself\u001b[39m\u001b[38;5;241m.\u001b[39m_id\n\u001b[1;32m--> 403\u001b[0m \u001b[38;5;28;01mreturn\u001b[39;00m \u001b[38;5;28mself\u001b[39m\u001b[38;5;241m.\u001b[39m_parent\u001b[38;5;241m.\u001b[39mexecute(command, params)\n",
      "File \u001b[1;32m~\\anaconda3\\Lib\\site-packages\\selenium\\webdriver\\remote\\webdriver.py:440\u001b[0m, in \u001b[0;36mWebDriver.execute\u001b[1;34m(self, driver_command, params)\u001b[0m\n\u001b[0;32m    438\u001b[0m response \u001b[38;5;241m=\u001b[39m \u001b[38;5;28mself\u001b[39m\u001b[38;5;241m.\u001b[39mcommand_executor\u001b[38;5;241m.\u001b[39mexecute(driver_command, params)\n\u001b[0;32m    439\u001b[0m \u001b[38;5;28;01mif\u001b[39;00m response:\n\u001b[1;32m--> 440\u001b[0m     \u001b[38;5;28mself\u001b[39m\u001b[38;5;241m.\u001b[39merror_handler\u001b[38;5;241m.\u001b[39mcheck_response(response)\n\u001b[0;32m    441\u001b[0m     response[\u001b[38;5;124m\"\u001b[39m\u001b[38;5;124mvalue\u001b[39m\u001b[38;5;124m\"\u001b[39m] \u001b[38;5;241m=\u001b[39m \u001b[38;5;28mself\u001b[39m\u001b[38;5;241m.\u001b[39m_unwrap_value(response\u001b[38;5;241m.\u001b[39mget(\u001b[38;5;124m\"\u001b[39m\u001b[38;5;124mvalue\u001b[39m\u001b[38;5;124m\"\u001b[39m, \u001b[38;5;28;01mNone\u001b[39;00m))\n\u001b[0;32m    442\u001b[0m     \u001b[38;5;28;01mreturn\u001b[39;00m response\n",
      "File \u001b[1;32m~\\anaconda3\\Lib\\site-packages\\selenium\\webdriver\\remote\\errorhandler.py:245\u001b[0m, in \u001b[0;36mErrorHandler.check_response\u001b[1;34m(self, response)\u001b[0m\n\u001b[0;32m    243\u001b[0m         alert_text \u001b[38;5;241m=\u001b[39m value[\u001b[38;5;124m\"\u001b[39m\u001b[38;5;124malert\u001b[39m\u001b[38;5;124m\"\u001b[39m]\u001b[38;5;241m.\u001b[39mget(\u001b[38;5;124m\"\u001b[39m\u001b[38;5;124mtext\u001b[39m\u001b[38;5;124m\"\u001b[39m)\n\u001b[0;32m    244\u001b[0m     \u001b[38;5;28;01mraise\u001b[39;00m exception_class(message, screen, stacktrace, alert_text)  \u001b[38;5;66;03m# type: ignore[call-arg]  # mypy is not smart enough here\u001b[39;00m\n\u001b[1;32m--> 245\u001b[0m \u001b[38;5;28;01mraise\u001b[39;00m exception_class(message, screen, stacktrace)\n",
      "\u001b[1;31mStaleElementReferenceException\u001b[0m: Message: stale element reference: stale element not found\n  (Session info: MicrosoftEdge=119.0.2151.72)\nStacktrace:\n\tGetHandleVerifier [0x00007FF7995F2602+60402]\n\tMicrosoft::Applications::Events::ILogConfiguration::operator* [0x00007FF799577352+253666]\n\t(No symbol) [0x00007FF799349C99]\n\t(No symbol) [0x00007FF79934EC78]\n\t(No symbol) [0x00007FF7993511EF]\n\t(No symbol) [0x00007FF7993512E0]\n\t(No symbol) [0x00007FF79939C156]\n\t(No symbol) [0x00007FF79938DC56]\n\t(No symbol) [0x00007FF7993BBA8A]\n\t(No symbol) [0x00007FF79938D766]\n\t(No symbol) [0x00007FF79938D60D]\n\t(No symbol) [0x00007FF7993BBDB0]\n\t(No symbol) [0x00007FF79938D766]\n\t(No symbol) [0x00007FF7993D5111]\n\t(No symbol) [0x00007FF7993BB863]\n\t(No symbol) [0x00007FF79938C585]\n\t(No symbol) [0x00007FF79938B993]\n\t(No symbol) [0x00007FF79938CD14]\n\tMicrosoft::Applications::Events::EventProperty::to_string [0x00007FF7997D34A4+1161924]\n\t(No symbol) [0x00007FF79940E5F6]\n\tMicrosoft::Applications::Events::EventProperty::~EventProperty [0x00007FF7994CB083+37459]\n\tMicrosoft::Applications::Events::EventProperty::~EventProperty [0x00007FF7994C2C4D+3613]\n\tMicrosoft::Applications::Events::EventProperty::to_string [0x00007FF7997D21E4+1157124]\n\tMicrosoft::Applications::Events::ILogConfiguration::operator* [0x00007FF7995816A8+295480]\n\tMicrosoft::Applications::Events::ILogConfiguration::operator* [0x00007FF79957CB74+276228]\n\tMicrosoft::Applications::Events::ILogConfiguration::operator* [0x00007FF79957CCA2+276530]\n\tMicrosoft::Applications::Events::ILogConfiguration::operator* [0x00007FF79956FA91+222753]\n\tBaseThreadInitThunk [0x00007FFEDF427344+20]\n\tRtlUserThreadStart [0x00007FFEE05226B1+33]\n"
     ]
    }
   ],
   "source": [
    "for page in range(5):\n",
    "    tables = driver.find_elements(By.XPATH,'//table[starts-with(@class,\"table\")]')\n",
    "    location_detail_table = tables[3]\n",
    "    project_description_table = tables[4]\n",
    "    closing_date = location_detail_table.find_elements(By.TAG_NAME,'td')[1].text\n",
    "    est_value_notes = location_detail_table.find_elements(By.TAG_NAME,'td')[7].text\n",
    "    description = project_description_table.find_elements(By.TAG_NAME,'td')[7].text\n",
    "    print(closing_date,est_value_notes,description)\n",
    "    time.sleep(1)\n",
    "    driver.find_element(By.XPATH,'//button[@id=\"id_prevnext_next\"]').click()\n",
    "    time.sleep(2)"
   ]
  },
  {
   "cell_type": "code",
   "execution_count": 49,
   "id": "bfc675e0",
   "metadata": {},
   "outputs": [
    {
     "name": "stdout",
     "output_type": "stream",
     "text": [
      "Closing Date:\n",
      "########\n",
      "Tue, 11/21/2023 02:00 PM MST\n",
      "########\n",
      "\n",
      "########\n",
      "Project Bid Received By & Opening Information:\n",
      "########\n",
      "Idaho Transportation Department\n",
      "########\n",
      "\n",
      "########\n",
      "Est. Value Notes:\n",
      "########\n",
      "$2,500,000 to $5,000,000\n",
      "########\n",
      "\n",
      "########\n",
      "------\n",
      "Project Owner Number:\n",
      "########\n",
      "Idaho Transportation Department\n",
      "########\n",
      "\n",
      "########\n",
      "Project Category Code:\n",
      "########\n",
      "Street/Roadway Reconstruction\n",
      "########\n",
      "\n",
      "########\n",
      "Description:\n",
      "########\n",
      "performing a base rehabilitation, regrading, paving and sealcoat of SH-77 from MP 1.07 to 4.1\n",
      "########\n",
      "\n",
      "########\n",
      "Additional Description:\n",
      "########\n",
      "Please contact the Resident Engineer ***SHIHAB AL BEIRUTI P.E.*** AT (208) 886-7851 or Shihab.AlBeiruti@itd.idaho.gov for any design-related questions.\n",
      "########\n",
      "\n",
      "########\n",
      "------\n"
     ]
    }
   ],
   "source": [
    "for table in tables[3:5]:\n",
    "    rows = table.find_elements(By.TAG_NAME,'td')\n",
    "    print(rows[1].text)\n",
    "    print(rows[7].text)\n",
    "    for tab in rows:\n",
    "        print(tab.text)\n",
    "        print('########')\n",
    "    print('------')"
   ]
  },
  {
   "cell_type": "code",
   "execution_count": null,
   "id": "ecf1378e",
   "metadata": {},
   "outputs": [],
   "source": []
  }
 ],
 "metadata": {
  "kernelspec": {
   "display_name": "Python 3 (ipykernel)",
   "language": "python",
   "name": "python3"
  },
  "language_info": {
   "codemirror_mode": {
    "name": "ipython",
    "version": 3
   },
   "file_extension": ".py",
   "mimetype": "text/x-python",
   "name": "python",
   "nbconvert_exporter": "python",
   "pygments_lexer": "ipython3",
   "version": "3.11.5"
  }
 },
 "nbformat": 4,
 "nbformat_minor": 5
}
